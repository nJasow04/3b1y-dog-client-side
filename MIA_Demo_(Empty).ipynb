{
  "cells": [
    {
      "cell_type": "markdown",
      "metadata": {
        "id": "view-in-github",
        "colab_type": "text"
      },
      "source": [
        "<a href=\"https://colab.research.google.com/github/nJasow04/3b1y-dog-client-side/blob/main/MIA_Demo_(Empty).ipynb\" target=\"_parent\"><img src=\"https://colab.research.google.com/assets/colab-badge.svg\" alt=\"Open In Colab\"/></a>"
      ]
    },
    {
      "cell_type": "markdown",
      "metadata": {
        "id": "it821_T8O5nK"
      },
      "source": [
        "# Membership Inference Attacks (Problems)\n",
        "\n",
        "IMPORTANT: make a copy of this notebook before proceeding!"
      ]
    },
    {
      "cell_type": "markdown",
      "metadata": {
        "id": "uga_8Lt-O5nL"
      },
      "source": [
        "This is a brief tutorial on membership inference attacks on the nursery dataset (find on Kaggle here: https://www.kaggle.com/datasets/nimapourmoradi/nursery).\n",
        "\n",
        "We have already preprocessed the dataset such that all categorical features are one-hot encoded, and the data was scaled using sklearn's StandardScaler.\n",
        "\n",
        "Run these cells to set up and train the model (don't worry about what's going on):"
      ]
    },
    {
      "cell_type": "code",
      "source": [
        "# SETUP (run first)\n",
        "!pip install adversarial-robustness-toolbox\n",
        "\n",
        "import os\n",
        "import sys\n",
        "from art.utils import load_nursery\n",
        "import numpy as np\n",
        "import numpy as np\n",
        "from sklearn.ensemble import RandomForestClassifier\n",
        "from sklearn.model_selection import train_test_split\n",
        "from sklearn.ensemble import RandomForestClassifier\n",
        "from art.estimators.classification.scikitlearn import ScikitlearnRandomForestClassifier\n",
        "\n",
        "sys.path.insert(0, os.path.abspath('..'))\n",
        "(x_train, y_train), (x_test, y_test), _, _ = load_nursery(test_set=0.5)"
      ],
      "metadata": {
        "colab": {
          "base_uri": "https://localhost:8080/"
        },
        "id": "B_UvurjFPgq8",
        "outputId": "1b969feb-ad2b-4184-e347-7ad23d14a59c"
      },
      "execution_count": null,
      "outputs": [
        {
          "output_type": "stream",
          "name": "stdout",
          "text": [
            "Requirement already satisfied: adversarial-robustness-toolbox in /usr/local/lib/python3.11/dist-packages (1.19.1)\n",
            "Requirement already satisfied: numpy>=1.18.0 in /usr/local/lib/python3.11/dist-packages (from adversarial-robustness-toolbox) (1.26.4)\n",
            "Requirement already satisfied: scipy>=1.4.1 in /usr/local/lib/python3.11/dist-packages (from adversarial-robustness-toolbox) (1.13.1)\n",
            "Requirement already satisfied: scikit-learn>=0.22.2 in /usr/local/lib/python3.11/dist-packages (from adversarial-robustness-toolbox) (1.6.0)\n",
            "Requirement already satisfied: six in /usr/local/lib/python3.11/dist-packages (from adversarial-robustness-toolbox) (1.17.0)\n",
            "Requirement already satisfied: setuptools in /usr/local/lib/python3.11/dist-packages (from adversarial-robustness-toolbox) (75.1.0)\n",
            "Requirement already satisfied: tqdm in /usr/local/lib/python3.11/dist-packages (from adversarial-robustness-toolbox) (4.67.1)\n",
            "Requirement already satisfied: joblib>=1.2.0 in /usr/local/lib/python3.11/dist-packages (from scikit-learn>=0.22.2->adversarial-robustness-toolbox) (1.4.2)\n",
            "Requirement already satisfied: threadpoolctl>=3.1.0 in /usr/local/lib/python3.11/dist-packages (from scikit-learn>=0.22.2->adversarial-robustness-toolbox) (3.5.0)\n"
          ]
        }
      ]
    },
    {
      "cell_type": "markdown",
      "metadata": {
        "id": "mbEyQALjO5nM"
      },
      "source": [
        "Since we have a relatively simple categorical dataset, for the sake of demonstration, we'll opt for a random forest model instead of a larger NN. Here's how you might train a random foest classifier."
      ]
    },
    {
      "cell_type": "code",
      "execution_count": null,
      "metadata": {
        "colab": {
          "base_uri": "https://localhost:8080/"
        },
        "id": "W5peQ3_uO5nM",
        "outputId": "18195e25-90f7-462d-83cc-5bc669ad2649"
      },
      "outputs": [
        {
          "output_type": "stream",
          "name": "stdout",
          "text": [
            "Base model accuracy:  0.9725223834516826\n"
          ]
        }
      ],
      "source": [
        "model = RandomForestClassifier()\n",
        "model.fit(x_train, y_train)\n",
        "\n",
        "art_classifier = ScikitlearnRandomForestClassifier(model)\n",
        "\n",
        "print('Base model accuracy: ', model.score(x_test, y_test))"
      ]
    },
    {
      "cell_type": "markdown",
      "source": [
        "# Attacks"
      ],
      "metadata": {
        "id": "pe3giMRCRn3f"
      }
    },
    {
      "cell_type": "markdown",
      "source": [
        "## Attmept 1: Basic Attack Model\n",
        "A membership inference attack atempt to determine whether a particular data point was used to train an ML model.\n",
        "\n",
        "Question: what information can a membership inference attack reveal? Why are they dangerous?\n",
        "\n",
        "<details>\n",
        "  <summary>Click to see answer</summary>\n",
        "  <p>\n",
        "  Medical: if an attacker can determine that someone's data was used to train a biological foundation model, they might infer that person had a relevant medical condition.\n",
        "  \n",
        "  Finance: For a model trained on financial data, membership might reveal someone's financial status\n",
        "  \n",
        "  For recommendation systems, membership might reveal personal preferences\n",
        "  </p>\n",
        "</details>\n",
        "\n",
        "### How do MIAs Work?\n",
        "\n",
        "MIAs exploit differences in how ML models behave on training data versus data they haven't seen before. In an ideal model that exactly learns what the data looks like (e.g. exactly knows the differences between cats and dogs), it won't see training and testing data any differently. However, in reality, the model may memorize specific patterns from the training data (e.g. is much more confident that a picture of the cat it's seen in the past is indeed a cat, but is less confident when seeing a picture of a new cat).\n",
        "\n",
        "We'll implement an attack that uses these differences to build a binary classifier that predicts whether a data point was in the training set."
      ],
      "metadata": {
        "id": "4J4AYhY6SHZe"
      }
    },
    {
      "cell_type": "markdown",
      "source": [
        "### Training Initial Model\n",
        "\n",
        "First, let's train a random forest classifier (using sklearn) on our dataset. This is our **target model**, which we want to attack.It represents represents a deployed ML model that an attacker might try to exploit."
      ],
      "metadata": {
        "id": "bFbFkeYZSZdn"
      }
    },
    {
      "cell_type": "code",
      "source": [
        "# TODO: Train the target model\n",
        "###############################################################################\n",
        "# 1. Load the nursery dataset (train and test)\n",
        "# 2. Create and train a RandomForestClassifier\n",
        "# 3. Evaluate its accuracy on the test set\n",
        "###############################################################################\n",
        "(x_train, y_train), (x_test, y_test), min_, max_ = # TODO\n",
        "\n",
        "target_model = # TODO\n",
        "# Train the target model\n",
        "# TODO\n",
        "\n",
        "# Evaluate base accuracy\n",
        "base_acc = # TODO\n",
        "print(f\"Target Model Test Accuracy: {base_acc:.4f}\")"
      ],
      "metadata": {
        "colab": {
          "base_uri": "https://localhost:8080/"
        },
        "id": "MRbs2CbmRnaq",
        "outputId": "dc275ecf-4b4b-46fe-ede5-2b0ecdcd5878"
      },
      "execution_count": null,
      "outputs": [
        {
          "output_type": "stream",
          "name": "stdout",
          "text": [
            "Target Model Test Accuracy: 0.9775\n"
          ]
        }
      ]
    },
    {
      "cell_type": "markdown",
      "source": [
        "How accurate can you get? I got $97.3$%."
      ],
      "metadata": {
        "id": "DwoD45saSsQX"
      }
    },
    {
      "cell_type": "markdown",
      "source": [
        "### The Attack"
      ],
      "metadata": {
        "id": "i8etovwlSoPd"
      }
    },
    {
      "cell_type": "markdown",
      "source": [
        "The key to a successful MIA is choosing good features that distinguish between members and non-members. Members are datapoints we know are in the model's original dataset, and non-members are datapoints the model has never seen before.\n",
        "\n",
        "We'll try to predict two common features:\n",
        "1. Predicted probability of the true class\n",
        "2. Negative log-likelihood of the true class\n",
        "\n",
        "We can use features like the negative log likelihood to predict membership. For example, models assign higher probabilities to training examples they've seen before."
      ],
      "metadata": {
        "id": "FoAHEMVkobm7"
      }
    },
    {
      "cell_type": "code",
      "source": [
        "# TODO: Implement the attack features\n",
        "def compute_attack_features(model, x, y_true):\n",
        "    \"\"\"\n",
        "    TODO: Implement a function that computes features for the attack model.\n",
        "\n",
        "    Returns a feature matrix for the attack model, each row is of the format:\n",
        "      [predicted_prob_of_correct_class, NLL]\n",
        "\n",
        "    Hint: Use model.predict_proba() to get class probabilities\n",
        "    \"\"\"\n",
        "    # Your code here:\n",
        "    probs = # Get prediction probabilities\n",
        "\n",
        "    p_correct = # Get probability of correct class for each sample\n",
        "\n",
        "    nll = # Calculate NLL\n",
        "    # Note: you'll have to clip the probabilities before calculating the log\n",
        "    # for numerical stability.\n",
        "\n",
        "    # Return combined features"
      ],
      "metadata": {
        "id": "iYz-pPBIpqU3"
      },
      "execution_count": null,
      "outputs": []
    },
    {
      "cell_type": "markdown",
      "source": [
        "Now, we'll create the dataset for training our attack model. Our dataset should consist of:\n",
        "\n",
        "1. \"Member\" examples from the train set\n",
        "2. \"Non-member\" examples (i.e. from the test set)\n",
        "3. Features computed (function above)\n",
        "4. Labels indicating membership (1 or 0)"
      ],
      "metadata": {
        "id": "j6cW-AICqCk0"
      }
    },
    {
      "cell_type": "code",
      "source": [
        "# TODO: Prepare the attack dataset\n",
        "###############################################################################\n",
        "# TODO:\n",
        "# 1. Select a portion of training data as \"members\"\n",
        "# 2. Select a portion of test data as \"non-members\"\n",
        "# 3. Compute attack features for both sets\n",
        "# 4. Create appropriate labels (1 for members, 0 for non-members)\n",
        "# 5. Combine into final training set\n",
        "###############################################################################\n",
        "attack_train_ratio = 0.5\n",
        "member_size = # number of members (from train)\n",
        "non_member_size = # number of non-members (from test)\n",
        "\n",
        "# Select member samples\n",
        "x_member = # select based on aboce\n",
        "y_member = # select based on aboce\n",
        "\n",
        "# Select non-member samples\n",
        "x_non_member = # select based on aboce\n",
        "y_non_member = # select based on aboce\n",
        "\n",
        "# Compute features for both sets\n",
        "X_member_feats = # todo\n",
        "X_non_member_feats = # todo\n",
        "\n",
        "# Create attack labels (binary classification)\n",
        "y_member_attack = # todo\n",
        "y_non_member_attack = # todo\n",
        "\n",
        "# Combine into final training set\n",
        "X_attack_train = np.concatenate([X_member_feats, X_non_member_feats], axis=0)\n",
        "y_attack_train = np.concatenate([y_member_attack, y_non_member_attack], axis=0)"
      ],
      "metadata": {
        "id": "TYttlEhHqMRK"
      },
      "execution_count": null,
      "outputs": []
    },
    {
      "cell_type": "markdown",
      "source": [
        "Finally, we can train our attack model. We'll use another Random Forest classifier, but feel free to experiment with any other binary classifier! Experiment and see how well you can do."
      ],
      "metadata": {
        "id": "MDFLYE3jqOlS"
      }
    },
    {
      "cell_type": "code",
      "source": [
        "# TODO: Train the attack model\n",
        "###############################################################################\n",
        "# 1. Create a binary classifier for the attack\n",
        "# 2. Train it on the attack features\n",
        "###############################################################################\n",
        "attack_model = # RandomForestClassifier(n_estimators=100, random_state=42)\n",
        "# TODO: train the above"
      ],
      "metadata": {
        "colab": {
          "base_uri": "https://localhost:8080/",
          "height": 57
        },
        "id": "O6dZlCOpqV_v",
        "outputId": "ce56449e-8a5c-42c5-8a2c-aa573a4e36d2"
      },
      "execution_count": null,
      "outputs": [
        {
          "output_type": "execute_result",
          "data": {
            "text/plain": [
              "RandomForestClassifier(random_state=42)"
            ],
            "text/html": [
              "<style>#sk-container-id-1 {\n",
              "  /* Definition of color scheme common for light and dark mode */\n",
              "  --sklearn-color-text: #000;\n",
              "  --sklearn-color-text-muted: #666;\n",
              "  --sklearn-color-line: gray;\n",
              "  /* Definition of color scheme for unfitted estimators */\n",
              "  --sklearn-color-unfitted-level-0: #fff5e6;\n",
              "  --sklearn-color-unfitted-level-1: #f6e4d2;\n",
              "  --sklearn-color-unfitted-level-2: #ffe0b3;\n",
              "  --sklearn-color-unfitted-level-3: chocolate;\n",
              "  /* Definition of color scheme for fitted estimators */\n",
              "  --sklearn-color-fitted-level-0: #f0f8ff;\n",
              "  --sklearn-color-fitted-level-1: #d4ebff;\n",
              "  --sklearn-color-fitted-level-2: #b3dbfd;\n",
              "  --sklearn-color-fitted-level-3: cornflowerblue;\n",
              "\n",
              "  /* Specific color for light theme */\n",
              "  --sklearn-color-text-on-default-background: var(--sg-text-color, var(--theme-code-foreground, var(--jp-content-font-color1, black)));\n",
              "  --sklearn-color-background: var(--sg-background-color, var(--theme-background, var(--jp-layout-color0, white)));\n",
              "  --sklearn-color-border-box: var(--sg-text-color, var(--theme-code-foreground, var(--jp-content-font-color1, black)));\n",
              "  --sklearn-color-icon: #696969;\n",
              "\n",
              "  @media (prefers-color-scheme: dark) {\n",
              "    /* Redefinition of color scheme for dark theme */\n",
              "    --sklearn-color-text-on-default-background: var(--sg-text-color, var(--theme-code-foreground, var(--jp-content-font-color1, white)));\n",
              "    --sklearn-color-background: var(--sg-background-color, var(--theme-background, var(--jp-layout-color0, #111)));\n",
              "    --sklearn-color-border-box: var(--sg-text-color, var(--theme-code-foreground, var(--jp-content-font-color1, white)));\n",
              "    --sklearn-color-icon: #878787;\n",
              "  }\n",
              "}\n",
              "\n",
              "#sk-container-id-1 {\n",
              "  color: var(--sklearn-color-text);\n",
              "}\n",
              "\n",
              "#sk-container-id-1 pre {\n",
              "  padding: 0;\n",
              "}\n",
              "\n",
              "#sk-container-id-1 input.sk-hidden--visually {\n",
              "  border: 0;\n",
              "  clip: rect(1px 1px 1px 1px);\n",
              "  clip: rect(1px, 1px, 1px, 1px);\n",
              "  height: 1px;\n",
              "  margin: -1px;\n",
              "  overflow: hidden;\n",
              "  padding: 0;\n",
              "  position: absolute;\n",
              "  width: 1px;\n",
              "}\n",
              "\n",
              "#sk-container-id-1 div.sk-dashed-wrapped {\n",
              "  border: 1px dashed var(--sklearn-color-line);\n",
              "  margin: 0 0.4em 0.5em 0.4em;\n",
              "  box-sizing: border-box;\n",
              "  padding-bottom: 0.4em;\n",
              "  background-color: var(--sklearn-color-background);\n",
              "}\n",
              "\n",
              "#sk-container-id-1 div.sk-container {\n",
              "  /* jupyter's `normalize.less` sets `[hidden] { display: none; }`\n",
              "     but bootstrap.min.css set `[hidden] { display: none !important; }`\n",
              "     so we also need the `!important` here to be able to override the\n",
              "     default hidden behavior on the sphinx rendered scikit-learn.org.\n",
              "     See: https://github.com/scikit-learn/scikit-learn/issues/21755 */\n",
              "  display: inline-block !important;\n",
              "  position: relative;\n",
              "}\n",
              "\n",
              "#sk-container-id-1 div.sk-text-repr-fallback {\n",
              "  display: none;\n",
              "}\n",
              "\n",
              "div.sk-parallel-item,\n",
              "div.sk-serial,\n",
              "div.sk-item {\n",
              "  /* draw centered vertical line to link estimators */\n",
              "  background-image: linear-gradient(var(--sklearn-color-text-on-default-background), var(--sklearn-color-text-on-default-background));\n",
              "  background-size: 2px 100%;\n",
              "  background-repeat: no-repeat;\n",
              "  background-position: center center;\n",
              "}\n",
              "\n",
              "/* Parallel-specific style estimator block */\n",
              "\n",
              "#sk-container-id-1 div.sk-parallel-item::after {\n",
              "  content: \"\";\n",
              "  width: 100%;\n",
              "  border-bottom: 2px solid var(--sklearn-color-text-on-default-background);\n",
              "  flex-grow: 1;\n",
              "}\n",
              "\n",
              "#sk-container-id-1 div.sk-parallel {\n",
              "  display: flex;\n",
              "  align-items: stretch;\n",
              "  justify-content: center;\n",
              "  background-color: var(--sklearn-color-background);\n",
              "  position: relative;\n",
              "}\n",
              "\n",
              "#sk-container-id-1 div.sk-parallel-item {\n",
              "  display: flex;\n",
              "  flex-direction: column;\n",
              "}\n",
              "\n",
              "#sk-container-id-1 div.sk-parallel-item:first-child::after {\n",
              "  align-self: flex-end;\n",
              "  width: 50%;\n",
              "}\n",
              "\n",
              "#sk-container-id-1 div.sk-parallel-item:last-child::after {\n",
              "  align-self: flex-start;\n",
              "  width: 50%;\n",
              "}\n",
              "\n",
              "#sk-container-id-1 div.sk-parallel-item:only-child::after {\n",
              "  width: 0;\n",
              "}\n",
              "\n",
              "/* Serial-specific style estimator block */\n",
              "\n",
              "#sk-container-id-1 div.sk-serial {\n",
              "  display: flex;\n",
              "  flex-direction: column;\n",
              "  align-items: center;\n",
              "  background-color: var(--sklearn-color-background);\n",
              "  padding-right: 1em;\n",
              "  padding-left: 1em;\n",
              "}\n",
              "\n",
              "\n",
              "/* Toggleable style: style used for estimator/Pipeline/ColumnTransformer box that is\n",
              "clickable and can be expanded/collapsed.\n",
              "- Pipeline and ColumnTransformer use this feature and define the default style\n",
              "- Estimators will overwrite some part of the style using the `sk-estimator` class\n",
              "*/\n",
              "\n",
              "/* Pipeline and ColumnTransformer style (default) */\n",
              "\n",
              "#sk-container-id-1 div.sk-toggleable {\n",
              "  /* Default theme specific background. It is overwritten whether we have a\n",
              "  specific estimator or a Pipeline/ColumnTransformer */\n",
              "  background-color: var(--sklearn-color-background);\n",
              "}\n",
              "\n",
              "/* Toggleable label */\n",
              "#sk-container-id-1 label.sk-toggleable__label {\n",
              "  cursor: pointer;\n",
              "  display: flex;\n",
              "  width: 100%;\n",
              "  margin-bottom: 0;\n",
              "  padding: 0.5em;\n",
              "  box-sizing: border-box;\n",
              "  text-align: center;\n",
              "  align-items: start;\n",
              "  justify-content: space-between;\n",
              "  gap: 0.5em;\n",
              "}\n",
              "\n",
              "#sk-container-id-1 label.sk-toggleable__label .caption {\n",
              "  font-size: 0.6rem;\n",
              "  font-weight: lighter;\n",
              "  color: var(--sklearn-color-text-muted);\n",
              "}\n",
              "\n",
              "#sk-container-id-1 label.sk-toggleable__label-arrow:before {\n",
              "  /* Arrow on the left of the label */\n",
              "  content: \"▸\";\n",
              "  float: left;\n",
              "  margin-right: 0.25em;\n",
              "  color: var(--sklearn-color-icon);\n",
              "}\n",
              "\n",
              "#sk-container-id-1 label.sk-toggleable__label-arrow:hover:before {\n",
              "  color: var(--sklearn-color-text);\n",
              "}\n",
              "\n",
              "/* Toggleable content - dropdown */\n",
              "\n",
              "#sk-container-id-1 div.sk-toggleable__content {\n",
              "  max-height: 0;\n",
              "  max-width: 0;\n",
              "  overflow: hidden;\n",
              "  text-align: left;\n",
              "  /* unfitted */\n",
              "  background-color: var(--sklearn-color-unfitted-level-0);\n",
              "}\n",
              "\n",
              "#sk-container-id-1 div.sk-toggleable__content.fitted {\n",
              "  /* fitted */\n",
              "  background-color: var(--sklearn-color-fitted-level-0);\n",
              "}\n",
              "\n",
              "#sk-container-id-1 div.sk-toggleable__content pre {\n",
              "  margin: 0.2em;\n",
              "  border-radius: 0.25em;\n",
              "  color: var(--sklearn-color-text);\n",
              "  /* unfitted */\n",
              "  background-color: var(--sklearn-color-unfitted-level-0);\n",
              "}\n",
              "\n",
              "#sk-container-id-1 div.sk-toggleable__content.fitted pre {\n",
              "  /* unfitted */\n",
              "  background-color: var(--sklearn-color-fitted-level-0);\n",
              "}\n",
              "\n",
              "#sk-container-id-1 input.sk-toggleable__control:checked~div.sk-toggleable__content {\n",
              "  /* Expand drop-down */\n",
              "  max-height: 200px;\n",
              "  max-width: 100%;\n",
              "  overflow: auto;\n",
              "}\n",
              "\n",
              "#sk-container-id-1 input.sk-toggleable__control:checked~label.sk-toggleable__label-arrow:before {\n",
              "  content: \"▾\";\n",
              "}\n",
              "\n",
              "/* Pipeline/ColumnTransformer-specific style */\n",
              "\n",
              "#sk-container-id-1 div.sk-label input.sk-toggleable__control:checked~label.sk-toggleable__label {\n",
              "  color: var(--sklearn-color-text);\n",
              "  background-color: var(--sklearn-color-unfitted-level-2);\n",
              "}\n",
              "\n",
              "#sk-container-id-1 div.sk-label.fitted input.sk-toggleable__control:checked~label.sk-toggleable__label {\n",
              "  background-color: var(--sklearn-color-fitted-level-2);\n",
              "}\n",
              "\n",
              "/* Estimator-specific style */\n",
              "\n",
              "/* Colorize estimator box */\n",
              "#sk-container-id-1 div.sk-estimator input.sk-toggleable__control:checked~label.sk-toggleable__label {\n",
              "  /* unfitted */\n",
              "  background-color: var(--sklearn-color-unfitted-level-2);\n",
              "}\n",
              "\n",
              "#sk-container-id-1 div.sk-estimator.fitted input.sk-toggleable__control:checked~label.sk-toggleable__label {\n",
              "  /* fitted */\n",
              "  background-color: var(--sklearn-color-fitted-level-2);\n",
              "}\n",
              "\n",
              "#sk-container-id-1 div.sk-label label.sk-toggleable__label,\n",
              "#sk-container-id-1 div.sk-label label {\n",
              "  /* The background is the default theme color */\n",
              "  color: var(--sklearn-color-text-on-default-background);\n",
              "}\n",
              "\n",
              "/* On hover, darken the color of the background */\n",
              "#sk-container-id-1 div.sk-label:hover label.sk-toggleable__label {\n",
              "  color: var(--sklearn-color-text);\n",
              "  background-color: var(--sklearn-color-unfitted-level-2);\n",
              "}\n",
              "\n",
              "/* Label box, darken color on hover, fitted */\n",
              "#sk-container-id-1 div.sk-label.fitted:hover label.sk-toggleable__label.fitted {\n",
              "  color: var(--sklearn-color-text);\n",
              "  background-color: var(--sklearn-color-fitted-level-2);\n",
              "}\n",
              "\n",
              "/* Estimator label */\n",
              "\n",
              "#sk-container-id-1 div.sk-label label {\n",
              "  font-family: monospace;\n",
              "  font-weight: bold;\n",
              "  display: inline-block;\n",
              "  line-height: 1.2em;\n",
              "}\n",
              "\n",
              "#sk-container-id-1 div.sk-label-container {\n",
              "  text-align: center;\n",
              "}\n",
              "\n",
              "/* Estimator-specific */\n",
              "#sk-container-id-1 div.sk-estimator {\n",
              "  font-family: monospace;\n",
              "  border: 1px dotted var(--sklearn-color-border-box);\n",
              "  border-radius: 0.25em;\n",
              "  box-sizing: border-box;\n",
              "  margin-bottom: 0.5em;\n",
              "  /* unfitted */\n",
              "  background-color: var(--sklearn-color-unfitted-level-0);\n",
              "}\n",
              "\n",
              "#sk-container-id-1 div.sk-estimator.fitted {\n",
              "  /* fitted */\n",
              "  background-color: var(--sklearn-color-fitted-level-0);\n",
              "}\n",
              "\n",
              "/* on hover */\n",
              "#sk-container-id-1 div.sk-estimator:hover {\n",
              "  /* unfitted */\n",
              "  background-color: var(--sklearn-color-unfitted-level-2);\n",
              "}\n",
              "\n",
              "#sk-container-id-1 div.sk-estimator.fitted:hover {\n",
              "  /* fitted */\n",
              "  background-color: var(--sklearn-color-fitted-level-2);\n",
              "}\n",
              "\n",
              "/* Specification for estimator info (e.g. \"i\" and \"?\") */\n",
              "\n",
              "/* Common style for \"i\" and \"?\" */\n",
              "\n",
              ".sk-estimator-doc-link,\n",
              "a:link.sk-estimator-doc-link,\n",
              "a:visited.sk-estimator-doc-link {\n",
              "  float: right;\n",
              "  font-size: smaller;\n",
              "  line-height: 1em;\n",
              "  font-family: monospace;\n",
              "  background-color: var(--sklearn-color-background);\n",
              "  border-radius: 1em;\n",
              "  height: 1em;\n",
              "  width: 1em;\n",
              "  text-decoration: none !important;\n",
              "  margin-left: 0.5em;\n",
              "  text-align: center;\n",
              "  /* unfitted */\n",
              "  border: var(--sklearn-color-unfitted-level-1) 1pt solid;\n",
              "  color: var(--sklearn-color-unfitted-level-1);\n",
              "}\n",
              "\n",
              ".sk-estimator-doc-link.fitted,\n",
              "a:link.sk-estimator-doc-link.fitted,\n",
              "a:visited.sk-estimator-doc-link.fitted {\n",
              "  /* fitted */\n",
              "  border: var(--sklearn-color-fitted-level-1) 1pt solid;\n",
              "  color: var(--sklearn-color-fitted-level-1);\n",
              "}\n",
              "\n",
              "/* On hover */\n",
              "div.sk-estimator:hover .sk-estimator-doc-link:hover,\n",
              ".sk-estimator-doc-link:hover,\n",
              "div.sk-label-container:hover .sk-estimator-doc-link:hover,\n",
              ".sk-estimator-doc-link:hover {\n",
              "  /* unfitted */\n",
              "  background-color: var(--sklearn-color-unfitted-level-3);\n",
              "  color: var(--sklearn-color-background);\n",
              "  text-decoration: none;\n",
              "}\n",
              "\n",
              "div.sk-estimator.fitted:hover .sk-estimator-doc-link.fitted:hover,\n",
              ".sk-estimator-doc-link.fitted:hover,\n",
              "div.sk-label-container:hover .sk-estimator-doc-link.fitted:hover,\n",
              ".sk-estimator-doc-link.fitted:hover {\n",
              "  /* fitted */\n",
              "  background-color: var(--sklearn-color-fitted-level-3);\n",
              "  color: var(--sklearn-color-background);\n",
              "  text-decoration: none;\n",
              "}\n",
              "\n",
              "/* Span, style for the box shown on hovering the info icon */\n",
              ".sk-estimator-doc-link span {\n",
              "  display: none;\n",
              "  z-index: 9999;\n",
              "  position: relative;\n",
              "  font-weight: normal;\n",
              "  right: .2ex;\n",
              "  padding: .5ex;\n",
              "  margin: .5ex;\n",
              "  width: min-content;\n",
              "  min-width: 20ex;\n",
              "  max-width: 50ex;\n",
              "  color: var(--sklearn-color-text);\n",
              "  box-shadow: 2pt 2pt 4pt #999;\n",
              "  /* unfitted */\n",
              "  background: var(--sklearn-color-unfitted-level-0);\n",
              "  border: .5pt solid var(--sklearn-color-unfitted-level-3);\n",
              "}\n",
              "\n",
              ".sk-estimator-doc-link.fitted span {\n",
              "  /* fitted */\n",
              "  background: var(--sklearn-color-fitted-level-0);\n",
              "  border: var(--sklearn-color-fitted-level-3);\n",
              "}\n",
              "\n",
              ".sk-estimator-doc-link:hover span {\n",
              "  display: block;\n",
              "}\n",
              "\n",
              "/* \"?\"-specific style due to the `<a>` HTML tag */\n",
              "\n",
              "#sk-container-id-1 a.estimator_doc_link {\n",
              "  float: right;\n",
              "  font-size: 1rem;\n",
              "  line-height: 1em;\n",
              "  font-family: monospace;\n",
              "  background-color: var(--sklearn-color-background);\n",
              "  border-radius: 1rem;\n",
              "  height: 1rem;\n",
              "  width: 1rem;\n",
              "  text-decoration: none;\n",
              "  /* unfitted */\n",
              "  color: var(--sklearn-color-unfitted-level-1);\n",
              "  border: var(--sklearn-color-unfitted-level-1) 1pt solid;\n",
              "}\n",
              "\n",
              "#sk-container-id-1 a.estimator_doc_link.fitted {\n",
              "  /* fitted */\n",
              "  border: var(--sklearn-color-fitted-level-1) 1pt solid;\n",
              "  color: var(--sklearn-color-fitted-level-1);\n",
              "}\n",
              "\n",
              "/* On hover */\n",
              "#sk-container-id-1 a.estimator_doc_link:hover {\n",
              "  /* unfitted */\n",
              "  background-color: var(--sklearn-color-unfitted-level-3);\n",
              "  color: var(--sklearn-color-background);\n",
              "  text-decoration: none;\n",
              "}\n",
              "\n",
              "#sk-container-id-1 a.estimator_doc_link.fitted:hover {\n",
              "  /* fitted */\n",
              "  background-color: var(--sklearn-color-fitted-level-3);\n",
              "}\n",
              "</style><div id=\"sk-container-id-1\" class=\"sk-top-container\"><div class=\"sk-text-repr-fallback\"><pre>RandomForestClassifier(random_state=42)</pre><b>In a Jupyter environment, please rerun this cell to show the HTML representation or trust the notebook. <br />On GitHub, the HTML representation is unable to render, please try loading this page with nbviewer.org.</b></div><div class=\"sk-container\" hidden><div class=\"sk-item\"><div class=\"sk-estimator fitted sk-toggleable\"><input class=\"sk-toggleable__control sk-hidden--visually\" id=\"sk-estimator-id-1\" type=\"checkbox\" checked><label for=\"sk-estimator-id-1\" class=\"sk-toggleable__label fitted sk-toggleable__label-arrow\"><div><div>RandomForestClassifier</div></div><div><a class=\"sk-estimator-doc-link fitted\" rel=\"noreferrer\" target=\"_blank\" href=\"https://scikit-learn.org/1.6/modules/generated/sklearn.ensemble.RandomForestClassifier.html\">?<span>Documentation for RandomForestClassifier</span></a><span class=\"sk-estimator-doc-link fitted\">i<span>Fitted</span></span></div></label><div class=\"sk-toggleable__content fitted\"><pre>RandomForestClassifier(random_state=42)</pre></div> </div></div></div></div>"
            ]
          },
          "metadata": {},
          "execution_count": 30
        }
      ]
    },
    {
      "cell_type": "markdown",
      "source": [
        "Finally, we can evaluate our attack!"
      ],
      "metadata": {
        "id": "g4KuVXdxlSkc"
      }
    },
    {
      "cell_type": "code",
      "source": [
        "# Problem: Evaluate the attack\n",
        "###############################################################################\n",
        "# TODO:\n",
        "# 1. Prepare a test set from remaining data\n",
        "# 2. Compute attack features for test set\n",
        "# 3. Make predictions with attack model\n",
        "# 4. Calculate and report attack accuracy\n",
        "###############################################################################\n",
        "\n",
        "# Get remaining members/nonmembers\n",
        "x_member_test = # todo\n",
        "y_member_test = # todo\n",
        "x_non_member_test = # todo\n",
        "y_non_member_test = # todo\n",
        "\n",
        "# Compute features\n",
        "X_member_test_feats = # todo\n",
        "X_non_member_test_feats = # todo\n",
        "\n",
        "# Create labels (binary classification)\n",
        "y_member_test_attack = # todo\n",
        "y_non_member_test_attack = # todo\n",
        "\n",
        "# Combine test sets\n",
        "X_attack_test = np.concatenate([X_member_test_feats, X_non_member_test_feats], axis=0)\n",
        "y_attack_test = np.concatenate([y_member_test_attack, y_non_member_test_attack], axis=0)\n",
        "\n",
        "# Evaluate attack\n",
        "y_attack_pred = # todo\n",
        "attack_accuracy = # todo\n",
        "print(f\"Attack Model Accuracy: {attack_accuracy:.4f}\")"
      ],
      "metadata": {
        "colab": {
          "base_uri": "https://localhost:8080/"
        },
        "id": "foPmQGLtqYGh",
        "outputId": "54b62bb3-272c-4bd5-8962-3134248aefe1"
      },
      "execution_count": null,
      "outputs": [
        {
          "output_type": "stream",
          "name": "stdout",
          "text": [
            "Attack Model Accuracy: 0.5977\n"
          ]
        }
      ]
    },
    {
      "cell_type": "markdown",
      "source": [
        "If your accuracy was $>0.50$, this attack is successful!"
      ],
      "metadata": {
        "id": "iaAwBmI0vhqW"
      }
    },
    {
      "cell_type": "markdown",
      "source": [
        "# ART Attacks\n",
        "Below is the code to run some more sophisticated MIA attacks using the Adversarial Robustness Toolki! Feel free to play around with them."
      ],
      "metadata": {
        "id": "csnqGAa6vhEL"
      }
    },
    {
      "cell_type": "markdown",
      "metadata": {
        "id": "XyfpK2e1O5nM"
      },
      "source": [
        "## Attack\n",
        "### Rule-based attack\n",
        "The rule-based attack uses the simple rule to determine membership in the training data: if the model's prediction for a sample is correct, then it is a member. Otherwise, it is not a member."
      ]
    },
    {
      "cell_type": "code",
      "execution_count": null,
      "metadata": {
        "colab": {
          "base_uri": "https://localhost:8080/"
        },
        "id": "MM1G5elTO5nN",
        "outputId": "965525d4-27e6-4fce-bd62-3144ae7b26e7"
      },
      "outputs": [
        {
          "output_type": "stream",
          "name": "stdout",
          "text": [
            "Members Accuracy: 1.0000\n",
            "Non Members Accuracy 0.0267\n",
            "Attack Accuracy 0.5134\n"
          ]
        }
      ],
      "source": [
        "import numpy as np\n",
        "from art.attacks.inference.membership_inference import MembershipInferenceBlackBoxRuleBased\n",
        "\n",
        "attack = MembershipInferenceBlackBoxRuleBased(art_classifier)\n",
        "\n",
        "# infer attacked feature\n",
        "inferred_train = attack.infer(x_train, y_train)\n",
        "inferred_test = attack.infer(x_test, y_test)\n",
        "\n",
        "# check accuracy\n",
        "train_acc = np.sum(inferred_train) / len(inferred_train)\n",
        "test_acc = 1 - (np.sum(inferred_test) / len(inferred_test))\n",
        "acc = (train_acc * len(inferred_train) + test_acc * len(inferred_test)) / (len(inferred_train) + len(inferred_test))\n",
        "# print(f\"Members Accuracy: {train_acc:.4f}\")\n",
        "# print(f\"Non Members Accuracy {test_acc:.4f}\")\n",
        "print(f\"Attack Accuracy {acc:.4f}\")"
      ]
    },
    {
      "cell_type": "markdown",
      "metadata": {
        "id": "-9tqxF8LO5nN"
      },
      "source": [
        "This means that on average for 51% of the data, membership status is inferred correctly."
      ]
    },
    {
      "cell_type": "code",
      "execution_count": null,
      "metadata": {
        "colab": {
          "base_uri": "https://localhost:8080/"
        },
        "id": "D30jZH5pO5nN",
        "outputId": "6c81ed6a-dca9-4b83-f751-fdf0dff0dba8"
      },
      "outputs": [
        {
          "output_type": "stream",
          "name": "stdout",
          "text": [
            "(0.5067667996557929, 1.0)\n"
          ]
        }
      ],
      "source": [
        "def calc_precision_recall(predicted, actual, positive_value=1):\n",
        "    score = 0  # both predicted and actual are positive\n",
        "    num_positive_predicted = 0  # predicted positive\n",
        "    num_positive_actual = 0  # actual positive\n",
        "    for i in range(len(predicted)):\n",
        "        if predicted[i] == positive_value:\n",
        "            num_positive_predicted += 1\n",
        "        if actual[i] == positive_value:\n",
        "            num_positive_actual += 1\n",
        "        if predicted[i] == actual[i]:\n",
        "            if predicted[i] == positive_value:\n",
        "                score += 1\n",
        "\n",
        "    if num_positive_predicted == 0:\n",
        "        precision = 1\n",
        "    else:\n",
        "        precision = score / num_positive_predicted  # the fraction of predicted “Yes” responses that are correct\n",
        "    if num_positive_actual == 0:\n",
        "        recall = 1\n",
        "    else:\n",
        "        recall = score / num_positive_actual  # the fraction of “Yes” responses that are predicted correctly\n",
        "\n",
        "    return precision, recall\n",
        "\n",
        "# rule-based\n",
        "print(calc_precision_recall(np.concatenate((inferred_train, inferred_test)),\n",
        "                            np.concatenate((np.ones(len(inferred_train)), np.zeros(len(inferred_test))))))"
      ]
    },
    {
      "cell_type": "markdown",
      "metadata": {
        "id": "SPrIqufkO5nN"
      },
      "source": [
        "### Black-box attack\n",
        "The black-box attack basically trains an additional classifier (called the attack model) to predict the membership status of a sample. It can use as input to the learning process probabilities/logits or losses, depending on the type of model and provided configuration.\n",
        "#### Train attack model"
      ]
    },
    {
      "cell_type": "code",
      "execution_count": null,
      "metadata": {
        "id": "nVoAPlKaO5nN"
      },
      "outputs": [],
      "source": [
        "from art.attacks.inference.membership_inference import MembershipInferenceBlackBox\n",
        "\n",
        "attack_train_ratio = 0.5\n",
        "attack_train_size = int(len(x_train) * attack_train_ratio)\n",
        "attack_test_size = int(len(x_test) * attack_train_ratio)\n",
        "\n",
        "bb_attack = MembershipInferenceBlackBox(art_classifier)\n",
        "\n",
        "# train attack model\n",
        "bb_attack.fit(x_train[:attack_train_size], y_train[:attack_train_size],\n",
        "              x_test[:attack_test_size], y_test[:attack_test_size])"
      ]
    },
    {
      "cell_type": "markdown",
      "metadata": {
        "id": "Z0g68fz3O5nO"
      },
      "source": [
        "#### Infer membership and check accuracy"
      ]
    },
    {
      "cell_type": "code",
      "execution_count": null,
      "metadata": {
        "scrolled": true,
        "colab": {
          "base_uri": "https://localhost:8080/"
        },
        "id": "WQqnpnXVO5nO",
        "outputId": "3aeda646-386a-4d20-a679-fb4a54f1254e"
      },
      "outputs": [
        {
          "output_type": "stream",
          "name": "stdout",
          "text": [
            "Members Accuracy: 0.7190\n",
            "Non Members Accuracy 0.5835\n",
            "Attack Accuracy 0.6513\n"
          ]
        }
      ],
      "source": [
        "# get inferred values\n",
        "inferred_train_bb = bb_attack.infer(x_train[attack_train_size:], y_train[attack_train_size:])\n",
        "inferred_test_bb = bb_attack.infer(x_test[attack_test_size:], y_test[attack_test_size:])\n",
        "# check accuracy\n",
        "train_acc = np.sum(inferred_train_bb) / len(inferred_train_bb)\n",
        "test_acc = 1 - (np.sum(inferred_test_bb) / len(inferred_test_bb))\n",
        "acc = (train_acc * len(inferred_train_bb) + test_acc * len(inferred_test_bb)) / (len(inferred_train_bb) + len(inferred_test_bb))\n",
        "print(f\"Attack Accuracy {acc:.4f}\")"
      ]
    },
    {
      "cell_type": "markdown",
      "metadata": {
        "id": "vMtm7yrxO5nO"
      },
      "source": [
        "Achieves much better results than the rule-based attack."
      ]
    },
    {
      "cell_type": "code",
      "execution_count": null,
      "metadata": {
        "colab": {
          "base_uri": "https://localhost:8080/"
        },
        "id": "5xkPRlbKO5nO",
        "outputId": "4d5326d6-e11f-4970-fee7-52864dc239fa"
      },
      "outputs": [
        {
          "output_type": "stream",
          "name": "stdout",
          "text": [
            "(0.6332245785753127, 0.7190490892250695)\n"
          ]
        }
      ],
      "source": [
        "# black-box\n",
        "print(calc_precision_recall(np.concatenate((inferred_train_bb, inferred_test_bb)),\n",
        "                            np.concatenate((np.ones(len(inferred_train_bb)), np.zeros(len(inferred_test_bb))))))"
      ]
    }
  ],
  "metadata": {
    "kernelspec": {
      "display_name": "Python 3",
      "name": "python3"
    },
    "language_info": {
      "codemirror_mode": {
        "name": "ipython",
        "version": 3
      },
      "file_extension": ".py",
      "mimetype": "text/x-python",
      "name": "python",
      "nbconvert_exporter": "python",
      "pygments_lexer": "ipython3",
      "version": "3.8.5"
    },
    "colab": {
      "provenance": [],
      "gpuType": "T4",
      "include_colab_link": true
    },
    "accelerator": "GPU"
  },
  "nbformat": 4,
  "nbformat_minor": 0
}